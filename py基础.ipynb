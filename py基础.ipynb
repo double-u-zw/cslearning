{
 "cells": [
  {
   "cell_type": "markdown",
   "metadata": {},
   "source": [
    "输入是input，输出是output"
   ]
  },
  {
   "cell_type": "markdown",
   "metadata": {},
   "source": [
    "4个空格的缩进，python程序是大小写敏感的"
   ]
  },
  {
   "cell_type": "markdown",
   "metadata": {},
   "source": [
    "整数和浮点数在计算机内部存储的方式是不同的，整数运算永远是精确的（除法难道也是精确的？是的！），而浮点数运算则可能会有四舍五入的误差。"
   ]
  },
  {
   "cell_type": "markdown",
   "metadata": {},
   "source": [
    "字符串是以单引号'或双引号\"括起来的任意文本，比如'abc'，\"xyz\"等等。请注意，''或\"\"本身只是一种表示方式，不是字符串的一部分，因此，字符串'abc'只有a，b，c这3个字符。如果'本身也是一个字符，那就可以用\"\"括起来，比如\"I'm OK\"包含的字符是I，'，m，空格，O，K这6个字符。\n",
    "\n",
    "如果字符串内部既包含'又包含\"怎么办？可以用转义字符\\来标识，比如："
   ]
  },
  {
   "cell_type": "code",
   "execution_count": 5,
   "metadata": {},
   "outputs": [
    {
     "name": "stdout",
     "output_type": "stream",
     "text": [
      "I'm \"OK\"\n"
     ]
    }
   ],
   "source": [
    "print('I\\'m \\\"OK\\\"')"
   ]
  },
  {
   "cell_type": "markdown",
   "metadata": {},
   "source": [
    "转义字符\\可以转义很多字符，比如\\n表示换行，\\t表示制表符，字符\\本身也要转义，所以\\\\表示的字符就是\\\n",
    "\n",
    "如果字符串里面有很多字符都需要转义，就需要加很多\\，为了简化，Python还允许用r''表示''内部的字符串默认不转义，\n",
    "\n",
    "如果字符串内部有很多换行，用\\n写在一行里不好阅读，为了简化，Python允许用'''...'''的格式表示多行内容"
   ]
  },
  {
   "cell_type": "code",
   "execution_count": 7,
   "metadata": {},
   "outputs": [
    {
     "name": "stdout",
     "output_type": "stream",
     "text": [
      "\\\\\\\\r\\\\\\\\\n",
      "line1\n",
      "line2\n",
      "line3\n"
     ]
    }
   ],
   "source": [
    "print(r'\\\\\\\\r\\\\\\\\')\n",
    "\n",
    "print('''line1\n",
    "line2\n",
    "line3''')"
   ]
  },
  {
   "cell_type": "markdown",
   "metadata": {},
   "source": [
    "布尔值：\n",
    "\n",
    "True    False\n",
    "\n",
    "布尔值可以用and、or和not运算。"
   ]
  },
  {
   "cell_type": "code",
   "execution_count": 21,
   "metadata": {},
   "outputs": [
    {
     "name": "stdout",
     "output_type": "stream",
     "text": [
      "False\n",
      "True\n",
      "True\n",
      "True\n",
      "True\n",
      "False\n",
      "你是成年人\n"
     ]
    }
   ],
   "source": [
    "print(not True)\n",
    "\n",
    "print(not False)\n",
    "\n",
    "print(True or True)\n",
    "\n",
    "print(True or False)\n",
    "\n",
    "print(True and True)\n",
    "\n",
    "print(True and False)\n",
    "\n",
    "age=19\n",
    "if age<=18:\n",
    "    print('你是青少年')\n",
    "else:\n",
    "    print('你是成年人')"
   ]
  },
  {
   "cell_type": "markdown",
   "metadata": {},
   "source": [
    "空值\n",
    "\n",
    "空值是Python里一个特殊的值，用None表示。None不能理解为0，因为0是有意义的，而None是一个特殊的空值。"
   ]
  },
  {
   "cell_type": "markdown",
   "metadata": {},
   "source": [
    "变量在程序中就是用一个变量名表示了，变量名必须是大小写英文、数字和_的组合，且不能用数字开头"
   ]
  },
  {
   "cell_type": "markdown",
   "metadata": {},
   "source": [
    "在Python中，有两种除法，一种除法是/\n",
    "\n",
    "/除法计算结果是浮点数，即使是两个整数恰好整除，结果也是浮点数\n",
    "\n",
    "还有一种除法是//，称为地板除，两个整数的除法仍然是整数\n",
    "\n",
    "因为//除法只取结果的整数部分，所以Python还提供一个余数运算，可以得到两个整数相除的余数"
   ]
  },
  {
   "cell_type": "markdown",
   "metadata": {},
   "source": [
    "小结：\n",
    "\n",
    "Python支持多种数据类型，在计算机内部，可以把任何数据都看成一个“对象”，而变量就是在程序中用来指向这些数据对象的，对变量赋值就是把数据和变量给关联起来。\n",
    "\n",
    "对变量赋值x = y是把变量x指向真正的对象，该对象是变量y所指向的。随后对变量y的赋值不影响变量x的指向。\n",
    "\n",
    "注意：Python的整数没有大小限制，而某些语言的整数根据其存储长度是有大小限制的，例如Java对32位整数的范围限制在-2147483648-2147483647。\n",
    "\n",
    "Python的浮点数也没有大小限制，但是超出一定范围就直接表示为inf（无限大）。"
   ]
  },
  {
   "cell_type": "markdown",
   "metadata": {},
   "source": [
    "对于单个字符的编码，Python提供了ord()函数获取字符的整数表示，chr()函数把编码转换为对应的字符："
   ]
  },
  {
   "cell_type": "code",
   "execution_count": 26,
   "metadata": {},
   "outputs": [
    {
     "data": {
      "text/plain": [
       "'文'"
      ]
     },
     "execution_count": 26,
     "metadata": {},
     "output_type": "execute_result"
    }
   ],
   "source": [
    "ord('a')\n",
    "ord('中')\n",
    "chr(98)\n",
    "chr(25991)"
   ]
  },
  {
   "cell_type": "markdown",
   "metadata": {},
   "source": [
    "要计算str包含多少个字符，可以用len()函数：\n",
    "\n",
    "len()函数计算的是str的字符数，如果换成bytes，len()函数就计算字节数"
   ]
  },
  {
   "cell_type": "code",
   "execution_count": 28,
   "metadata": {},
   "outputs": [
    {
     "data": {
      "text/plain": [
       "2"
      ]
     },
     "execution_count": 28,
     "metadata": {},
     "output_type": "execute_result"
    }
   ],
   "source": [
    "len('abc')\n",
    "len('中文')"
   ]
  },
  {
   "cell_type": "markdown",
   "metadata": {},
   "source": [
    "Python内置的一种数据类型是列表：list。list是一种有序的集合，可以随时添加和删除其中的元素。"
   ]
  },
  {
   "cell_type": "code",
   "execution_count": null,
   "metadata": {},
   "outputs": [
    {
     "name": "stdout",
     "output_type": "stream",
     "text": [
      "[1, 2, 3, 4]\n",
      "[0, 1, 2, 3, 4]\n",
      "[0, 1, 2, 3]\n",
      "[1, 2, 3]\n",
      "[1, 4, 3]\n",
      "['apple', 1, True]\n"
     ]
    }
   ],
   "source": [
    "num=[1,2,3]\n",
    "\n",
    "#追加元素到末尾\n",
    "num.append(4)\n",
    "print(num)\n",
    "\n",
    "#插入元素到指定位置\n",
    "num.insert(0,0)\n",
    "print(num)\n",
    "\n",
    "#删除末尾的元素\n",
    "num.pop()\n",
    "print(num)\n",
    "\n",
    "#删除指定位置的元素\n",
    "num.pop(0)\n",
    "print(num)\n",
    "\n",
    "#把某个元素替换成别的元素\n",
    "num[1]=4\n",
    "print(num)\n",
    "\n",
    "#list里面的元素的数据类型也可以不同\n",
    "L=['apple',1,True]\n",
    "print(L)\n",
    "\n",
    "#list元素也可以是另一个list"
   ]
  }
 ],
 "metadata": {
  "kernelspec": {
   "display_name": "Python 3",
   "language": "python",
   "name": "python3"
  },
  "language_info": {
   "codemirror_mode": {
    "name": "ipython",
    "version": 3
   },
   "file_extension": ".py",
   "mimetype": "text/x-python",
   "name": "python",
   "nbconvert_exporter": "python",
   "pygments_lexer": "ipython3",
   "version": "3.12.4"
  }
 },
 "nbformat": 4,
 "nbformat_minor": 2
}

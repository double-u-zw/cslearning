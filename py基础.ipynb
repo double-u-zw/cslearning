{
 "cells": [
  {
   "cell_type": "markdown",
   "metadata": {},
   "source": [
    "# 输入与输出\n",
    "\n",
    "输入是input，输出是output\n",
    "\n",
    "4个空格的缩进，python程序是大小写敏感的"
   ]
  },
  {
   "cell_type": "code",
   "execution_count": 43,
   "metadata": {},
   "outputs": [
    {
     "name": "stdout",
     "output_type": "stream",
     "text": [
      "1024*768= 786432\n"
     ]
    }
   ],
   "source": [
    "#练习1:请利用print()输出1024 * 768 = xxx：\n",
    "a=1024*768\n",
    "print('1024*768=',a)"
   ]
  },
  {
   "cell_type": "markdown",
   "metadata": {},
   "source": [
    "# 数据类型与变量\n",
    "\n",
    "整数和浮点数在计算机内部存储的方式是不同的，整数运算永远是精确的（除法难道也是精确的？是的！），而浮点数运算则可能会有四舍五入的误差。"
   ]
  },
  {
   "cell_type": "code",
   "execution_count": 44,
   "metadata": {},
   "outputs": [
    {
     "name": "stdout",
     "output_type": "stream",
     "text": [
      "123 456.789 Hello,World Hello,'adam' hello,\"bart\"\n",
      "hello,\n",
      "Bob\n"
     ]
    }
   ],
   "source": [
    "#练习2:请打印出以下变量的值：\n",
    "n=123\n",
    "f=456.789\n",
    "s1='Hello,World'\n",
    "s2='Hello,\\'adam\\''\n",
    "s3=r'hello,\"bart\"'\n",
    "s4=r'''hello,\n",
    "Bob'''\n",
    "\n",
    "print(n,f,s1,s2,s3)\n",
    "print(s4)"
   ]
  },
  {
   "cell_type": "markdown",
   "metadata": {},
   "source": [
    "# 字符与字符串\n",
    "字符串是以单引号'或双引号\"括起来的任意文本，比如'abc'，\"xyz\"等等。请注意，''或\"\"本身只是一种表示方式，不是字符串的一部分，因此，字符串'abc'只有a，b，c这3个字符。如果'本身也是一个字符，那就可以用\"\"括起来，比如\"I'm OK\"包含的字符是I，'，m，空格，O，K这6个字符。\n",
    "\n",
    "如果字符串内部既包含'又包含\"怎么办？可以用转义字符\\来标识，比如：\n",
    "```python\n",
    "print('I\\'m \\\"OK\\\"')\n",
    "```\n",
    "\n",
    "转义字符\\可以转义很多字符，比如\\n表示换行，\\t表示制表符，字符\\本身也要转义，所以\\\\表示的字符就是\\\n",
    "\n",
    "如果字符串里面有很多字符都需要转义，就需要加很多\\，为了简化，Python还允许用r''表示''内部的字符串默认不转义，\n",
    "\n",
    "如果字符串内部有很多换行，用\\n写在一行里不好阅读，为了简化，Python允许用'''...'''的格式表示多行内容\n",
    "\n",
    "\n",
    "```python\n",
    "print(r'\\\\\\\\r\\\\\\\\')\n",
    "\n",
    "print('''line1\n",
    "line2\n",
    "line3''')\n",
    "```\n",
    "\n",
    "布尔值：\n",
    "\n",
    "True    False\n",
    "\n",
    "布尔值可以用and、or和not运算。\n",
    "```python\n",
    "print(not True)\n",
    "\n",
    "print(not False)\n",
    "\n",
    "print(True or True)\n",
    "\n",
    "print(True or False)\n",
    "\n",
    "print(True and True)\n",
    "\n",
    "print(True and False)\n",
    "\n",
    "age=19\n",
    "if age<=18:\n",
    "    print('你是青少年')\n",
    "else:\n",
    "    print('你是成年人')\n",
    "```\n",
    "\n",
    "\n",
    "空值\n",
    "\n",
    "空值是Python里一个特殊的值，用None表示。None不能理解为0，因为0是有意义的，而None是一个特殊的空值。\n",
    "\n",
    "\n",
    "\n",
    "变量在程序中就是用一个变量名表示了，变量名必须是大小写英文、数字和_的组合，且不能用数字开头\n",
    "\n",
    "\n",
    "在Python中，有两种除法，一种除法是/\n",
    "\n",
    "/除法计算结果是浮点数，即使是两个整数恰好整除，结果也是浮点数\n",
    "\n",
    "还有一种除法是//，称为地板除，两个整数的除法仍然是整数\n",
    "\n",
    "因为//除法只取结果的整数部分，所以Python还提供一个余数运算，可以得到两个整数相除的余数\n",
    "\n",
    "小结：\n",
    "\n",
    "Python支持多种数据类型，在计算机内部，可以把任何数据都看成一个“对象”，而变量就是在程序中用来指向这些数据对象的，对变量赋值就是把数据和变量给关联起来。\n",
    "\n",
    "对变量赋值x = y是把变量x指向真正的对象，该对象是变量y所指向的。随后对变量y的赋值不影响变量x的指向。\n",
    "\n",
    "注意：Python的整数没有大小限制，而某些语言的整数根据其存储长度是有大小限制的，例如Java对32位整数的范围限制在-2147483648-2147483647。\n",
    "\n",
    "Python的浮点数也没有大小限制，但是超出一定范围就直接表示为inf（无限大）。\n",
    "\n",
    "对于单个字符的编码，Python提供了ord()函数获取字符的整数表示，chr()函数把编码转换为对应的字符：\n",
    "\n",
    "```python\n",
    "ord('a')\n",
    "ord('中')\n",
    "chr(98)\n",
    "chr(25991)\n",
    "```\n",
    "\n",
    "要计算str包含多少个字符，可以用len()函数：\n",
    "\n",
    "```python\n",
    "len('abc')\n",
    "len('中文')\n",
    "```\n",
    "\n",
    "len()函数计算的是str的字符数，如果换成bytes，len()函数就计算字节数"
   ]
  },
  {
   "cell_type": "code",
   "execution_count": 45,
   "metadata": {},
   "outputs": [
    {
     "name": "stdout",
     "output_type": "stream",
     "text": [
      "小明成绩提升了 18.1%\n"
     ]
    }
   ],
   "source": [
    "#练习3:小明的成绩从去年的72分提升到了今年的85分，请计算小明成绩提升的百分点，并用字符串格式化显示出'xx.x%'，只保留小数点后1位：\n",
    "s1=72\n",
    "s2=85\n",
    "r=(s2-s1)/s1\n",
    "\n",
    "print(f'小明成绩提升了 {r*100:.1f}%')"
   ]
  },
  {
   "cell_type": "markdown",
   "metadata": {},
   "source": [
    "# list与tuple\n",
    "Python内置的一种数据类型是列表：list。list是一种有序的集合，可以随时添加和删除其中的元素。\n",
    "\n",
    "```python\n",
    "num=[1,2,3]\n",
    "\n",
    "#追加元素到末尾\n",
    "num.append(4)\n",
    "print(num)\n",
    "\n",
    "#插入元素到指定位置\n",
    "num.insert(0,0)\n",
    "print(num)\n",
    "\n",
    "#删除末尾的元素\n",
    "num.pop()\n",
    "print(num)\n",
    "\n",
    "#删除指定位置的元素\n",
    "num.pop(0)\n",
    "print(num)\n",
    "\n",
    "#把某个元素替换成别的元素\n",
    "num[1]=4\n",
    "print(num)\n",
    "\n",
    "#list里面的元素的数据类型也可以不同\n",
    "L=['apple',1,True]\n",
    "print(L)\n",
    "\n",
    "#list元素也可以是另一个list\n",
    "```\n",
    "\n",
    "元组：tuple\n",
    "\n",
    "tuple和list非常类似，但是tuple一旦初始化就不能修改，比如同样是列出同学的名字：\n",
    "\n",
    "tuple的陷阱：当你定义一个tuple时，在定义的时候，tuple的元素就必须被确定下来\n",
    "\n",
    "所以，只有1个元素的tuple定义时必须加一个逗号,，来消除歧义\n",
    "\n",
    "表面上看，tuple的元素确实变了，但其实变的不是tuple的元素，而是list的元素。tuple一开始指向的list并没有改成别的list，所以，tuple所谓的“不变”是说，tuple的每个元素，指向永远不变。即指向'a'，就不能改成指向'b'，指向一个list，就不能改成指向其他对象，但指向的这个list本身是可变的！"
   ]
  },
  {
   "cell_type": "code",
   "execution_count": 46,
   "metadata": {},
   "outputs": [
    {
     "name": "stdout",
     "output_type": "stream",
     "text": [
      "Apple\n",
      "Python\n",
      "Bob\n"
     ]
    }
   ],
   "source": [
    "#请用索引取出下面list的指定元素：\n",
    "L = [\n",
    "    ['Apple', 'Google', 'Microsoft'],\n",
    "    ['Java', 'Python', 'Ruby', 'PHP'],\n",
    "    ['Adam', 'Bart', 'Bob']\n",
    "]\n",
    "\n",
    "# 打印Apple:\n",
    "print(L[0][0])\n",
    "# 打印Python:\n",
    "print(L[1][1])\n",
    "# 打印Bob:\n",
    "print(L[2][2])"
   ]
  },
  {
   "cell_type": "markdown",
   "metadata": {},
   "source": [
    "# 条件判断\n",
    "注意不要少写了冒号:\n",
    "```python\n",
    "age = 20\n",
    "if age >= 18:\n",
    "    print('your age is', age)\n",
    "    print('adult')\n",
    "\n",
    "age=3\n",
    "if age >= 18:\n",
    "    print('adult')\n",
    "elif age >= 6:\n",
    "    print('teenager')\n",
    "else: print('kid')\n",
    "``` \n",
    "input()返回的数据类型是str，str不能直接和整数比较，必须先把str转换成整数。Python提供了int()函数来完成这件事情：\n",
    "```python\n",
    "s=input(\"birth:\")\n",
    "birth=int(s)\n",
    "if birth >=2000：\n",
    "    print('00后')\n",
    "else:\n",
    "    print(\"00前\")\n",
    "\n",
    "```\n",
    "\n",
    "```python\n",
    "age = 20\n",
    "if age >= 18:\n",
    "    print('your age is', age)\n",
    "    print('adult')\n",
    "\n",
    "age=3\n",
    "if age >= 18:\n",
    "    print('adult')\n",
    "elif age >= 6:\n",
    "    print('teenager')\n",
    "else: print('kid')\n",
    "\n",
    "s=input(\"birth:\")\n",
    "birth=int(s)\n",
    "if birth >=2000:\n",
    "    print('00后')\n",
    "else:\n",
    "    print(\"00前\")\n",
    "```\n"
   ]
  },
  {
   "cell_type": "code",
   "execution_count": 49,
   "metadata": {},
   "outputs": [
    {
     "name": "stdout",
     "output_type": "stream",
     "text": [
      "你的bmi是26.3\n",
      "过重\n"
     ]
    }
   ],
   "source": [
    "#小明身高1.75，体重80.5kg。请根据BMI公式（体重除以身高的平方）帮小明计算他的BMI指数，并根据BMI指数：用if-elif判断并打印结果：\n",
    "height = 1.75\n",
    "weight = 80.5\n",
    "\n",
    "bmi=weight/height/height\n",
    "\n",
    "print(f'你的bmi是{bmi:.1f}')\n",
    "if bmi >=32:\n",
    "    print('严重肥胖')\n",
    "elif bmi >=28:\n",
    "    print('肥胖')\n",
    "elif bmi >=25:\n",
    "    print('过重')\n",
    "elif bmi >=18.5:\n",
    "    print('正常')\n",
    "else:\n",
    "    print('过轻')"
   ]
  },
  {
   "cell_type": "markdown",
   "metadata": {},
   "source": [
    "# 模式匹配\n",
    "```python\n",
    "score='B'\n",
    "\n",
    "match score:\n",
    "    case 'A':\n",
    "        print('score is A.')\n",
    "    case 'B':\n",
    "        print('score is B.')\n",
    "    case 'C':\n",
    "        print('score is C.')\n",
    "    case _:\n",
    "        print('score is ???.')\n",
    "```\n",
    "\n",
    "## 复杂匹配\n",
    "match语句除了可以匹配简单的单个值外，还可以匹配多个值、匹配一定范围，并且把匹配后的值绑定到变量：\n",
    "```python\n",
    "age = 15\n",
    "\n",
    "match age:\n",
    "    case x if x < 10:\n",
    "        print(f'< 10 years old: {x}')\n",
    "    case 10:\n",
    "        print('10 years old.')\n",
    "    case 11 | 12 | 13 | 14 | 15 | 16 | 17 | 18:\n",
    "        print('11~18 years old.')\n",
    "    case 19:\n",
    "        print('19 years old.')\n",
    "    case _:\n",
    "        print('not sure.')\n",
    "```\n",
    "在上面这个示例中，第一个case x if x < 10表示当age < 10成立时匹配，且赋值给变量x，第二个case 10仅匹配单个值，第三个case 11|12|...|18能匹配多个值，用|分隔。\n",
    "\n",
    "## 匹配列表\n",
    "\n",
    "\n",
    "\n"
   ]
  },
  {
   "cell_type": "markdown",
   "metadata": {},
   "source": [
    "# 循环\n",
    "Python的循环有两种，一种是for...in循环，依次把list或tuple中的每个元素迭代出来，看例子：\n",
    "```python\n",
    "names = ['Michael', 'Bob', 'Tracy']\n",
    "for name in names:\n",
    "    print(name)\n",
    "```\n",
    "所以for x in ...循环就是把每个元素代入变量x，然后执行缩进块的语句。\n",
    "```python\n",
    "sum = 0\n",
    "for x in range(101):\n",
    "    sum = sum + x\n",
    "print(sum)\n",
    "```\n",
    "第二种循环是while循环，只要条件满足，就不断循环，条件不满足时退出循环。比如我们要计算100以内所有奇数之和，可以用while循环实现：\n",
    "```python\n",
    "sum=0\n",
    "n=99\n",
    "while n>0:\n",
    "    sum=sum+n\n",
    "    n=n-2\n",
    "print(sum)\n",
    "\n",
    "```"
   ]
  },
  {
   "cell_type": "code",
   "execution_count": 52,
   "metadata": {},
   "outputs": [
    {
     "name": "stdout",
     "output_type": "stream",
     "text": [
      "hello, Bart\n",
      "hello, Lisa\n",
      "hello, Adam\n"
     ]
    }
   ],
   "source": [
    "#练习：请利用循环依次对list中的每个名字打印出Hello, xxx!：\n",
    "L = ['Bart', 'Lisa', 'Adam']\n",
    "\n",
    "for x in L:\n",
    "    print(\"hello,\",x)\n"
   ]
  },
  {
   "cell_type": "markdown",
   "metadata": {},
   "source": [
    "# break\n",
    "在循环中，break语句可以提前退出循环。\n",
    "```python\n",
    "n=0\n",
    "while n<=99:\n",
    "    n=n+1\n",
    "    print(n)\n",
    "    if n>9:\n",
    "        break\n",
    "```\n",
    "# continue\n",
    "在循环过程中，也可以通过continue语句，跳过当前的这次循环，直接开始下一次循环。\n",
    "```python\n",
    "n = 0\n",
    "while n < 10:\n",
    "    n = n + 1\n",
    "    if n%2==0:\n",
    "        continue\n",
    "    print(n)\n",
    "```\n",
    "\n",
    "# 小结\n",
    "循环是让计算机做重复任务的有效的方法。\n",
    "\n",
    "break语句可以在循环过程中直接退出循环，而continue语句可以提前结束本轮循环，并直接开始下一轮循环。这两个语句通常都必须配合if语句使用。\n",
    "\n",
    "*要特别注意*，不要滥用break和continue语句。break和continue会造成代码执行逻辑分叉过多，容易出错。大多数循环并不需要用到break和continue语句，上面的两个例子，都可以通过改写循环条件或者修改循环逻辑，去掉break和continue语句。\n",
    "\n",
    "有些时候，如果代码写得有问题，会让程序陷入“死循环”，也就是永远循环下去。这时可以用Ctrl+C退出程序，或者强制结束Python进程。\n",
    "\n",
    "请试写一个死循环程序。"
   ]
  },
  {
   "cell_type": "markdown",
   "metadata": {},
   "source": [
    "# dict（字典） 与 set\n",
    "\n",
    "## dict\n",
    "```python\n",
    "d = {'Michael': 95, 'Bob': 75, 'Tracy': 85}\n",
    "d['Michael']\n",
    "```\n",
    "这种key-value存储方式，在放进去的时候，必须根据key算出value的存放位置，这样，取的时候才能根据key直接拿到value。\n",
    "\n",
    "把数据放入dict的方法，除了初始化时指定外，还可以通过key放入：\n",
    "```python\n",
    "d['Bob']=475\n",
    "d['Bob']\n",
    "```\n",
    "由于一个key只能对应一个value，所以，多次对一个key放入value，后面的值会把前面的值冲掉：\n",
    "\n",
    "如果key不存在，dict就会报错：\n",
    "\n",
    "要避免key不存在的错误，有两种办法，一是通过in判断key是否存在：\n",
    "```python\n",
    "'hdadf' in d\n",
    "```\n",
    "二是通过dict提供的get()方法，如果key不存在，可以返回None，或者自己指定的value：\n",
    "d.get\n",
    "\n",
    "要删除一个key，用pop(key)方法，对应的value也会从dict中删除：\n",
    "d.pop()\n",
    "\n",
    "dict可以用在需要高速查找的很多地方，在Python代码中几乎无处不在，正确使用dict非常重要，需要牢记的第一条就是dict的key必须是不可变对象。\n",
    "\n",
    "## set\n",
    "set和dict类似，也是一组key的集合，但不存储value。由于key不能重复，所以，在set中，没有重复的key。\n",
    "\n",
    "重复元素在set中自动被过滤：\n",
    "\n",
    "通过add(key)方法可以添加元素到set中，可以重复添加，但不会有效果：\n",
    "\n",
    "通过remove(key)方法可以删除元素：\n",
    "\n",
    "set可以看成数学意义上的无序和无重复元素的集合，因此，两个set可以做数学意义上的交集、并集等操作：\n",
    "\n",
    "set和dict的唯一区别仅在于没有存储对应的value，但是，set的原理和dict一样，所以，同样不可以放入可变对象，因为无法判断两个可变对象是否相等，也就无法保证set内部“不会有重复元素”。试试把list放入set，看看是否会报错。\n",
    "\n",
    "# 小结\n",
    "使用key-value存储结构的dict在Python中非常有用，选择不可变对象作为key很重要，最常用的key是字符串。\n",
    "\n",
    "tuple虽然是不变对象，但试试把(1, 2, 3)和(1, [2, 3])放入dict或set中，并解释结果。"
   ]
  },
  {
   "cell_type": "code",
   "execution_count": 62,
   "metadata": {},
   "outputs": [
    {
     "name": "stdout",
     "output_type": "stream",
     "text": [
      "{(1, 2, 3)}\n"
     ]
    },
    {
     "ename": "TypeError",
     "evalue": "unhashable type: 'list'",
     "output_type": "error",
     "traceback": [
      "\u001b[1;31m---------------------------------------------------------------------------\u001b[0m",
      "\u001b[1;31mTypeError\u001b[0m                                 Traceback (most recent call last)",
      "Cell \u001b[1;32mIn[62], line 8\u001b[0m\n\u001b[0;32m      5\u001b[0m s\u001b[38;5;241m.\u001b[39madd(a)\n\u001b[0;32m      6\u001b[0m \u001b[38;5;28mprint\u001b[39m(s)\n\u001b[1;32m----> 8\u001b[0m \u001b[43ms\u001b[49m\u001b[38;5;241;43m.\u001b[39;49m\u001b[43madd\u001b[49m\u001b[43m(\u001b[49m\u001b[43mb\u001b[49m\u001b[43m)\u001b[49m\n\u001b[0;32m      9\u001b[0m \u001b[38;5;28mprint\u001b[39m(s)\n",
      "\u001b[1;31mTypeError\u001b[0m: unhashable type: 'list'"
     ]
    }
   ],
   "source": [
    "a=(1,2,3)\n",
    "b=(1,[2,3])\n",
    "\n",
    "s=set()\n",
    "s.add(a)\n",
    "print(s)\n",
    "\n",
    "s.add(b)\n",
    "print(s)"
   ]
  }
 ],
 "metadata": {
  "kernelspec": {
   "display_name": "Python 3",
   "language": "python",
   "name": "python3"
  },
  "language_info": {
   "codemirror_mode": {
    "name": "ipython",
    "version": 3
   },
   "file_extension": ".py",
   "mimetype": "text/x-python",
   "name": "python",
   "nbconvert_exporter": "python",
   "pygments_lexer": "ipython3",
   "version": "3.12.4"
  }
 },
 "nbformat": 4,
 "nbformat_minor": 2
}

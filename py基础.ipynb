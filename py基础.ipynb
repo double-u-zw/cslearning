{
 "cells": [
  {
   "cell_type": "markdown",
   "metadata": {},
   "source": [
    "输入是input，输出是output"
   ]
  },
  {
   "cell_type": "markdown",
   "metadata": {},
   "source": [
    "4个空格的缩进，python程序是大小写敏感的"
   ]
  }
 ],
 "metadata": {
  "language_info": {
   "name": "python"
  }
 },
 "nbformat": 4,
 "nbformat_minor": 2
}

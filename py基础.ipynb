{
 "cells": [
  {
   "cell_type": "markdown",
   "metadata": {},
   "source": [
    "# 输入与输出\n",
    "\n",
    "输入是input，输出是output\n",
    "\n",
    "4个空格的缩进，python程序是大小写敏感的"
   ]
  },
  {
   "cell_type": "code",
   "execution_count": 43,
   "metadata": {},
   "outputs": [
    {
     "name": "stdout",
     "output_type": "stream",
     "text": [
      "1024*768= 786432\n"
     ]
    }
   ],
   "source": [
    "#练习1:请利用print()输出1024 * 768 = xxx：\n",
    "a=1024*768\n",
    "print('1024*768=',a)"
   ]
  },
  {
   "cell_type": "markdown",
   "metadata": {},
   "source": [
    "# 数据类型与变量\n",
    "\n",
    "整数和浮点数在计算机内部存储的方式是不同的，整数运算永远是精确的（除法难道也是精确的？是的！），而浮点数运算则可能会有四舍五入的误差。"
   ]
  },
  {
   "cell_type": "code",
   "execution_count": 44,
   "metadata": {},
   "outputs": [
    {
     "name": "stdout",
     "output_type": "stream",
     "text": [
      "123 456.789 Hello,World Hello,'adam' hello,\"bart\"\n",
      "hello,\n",
      "Bob\n"
     ]
    }
   ],
   "source": [
    "#练习2:请打印出以下变量的值：\n",
    "n=123\n",
    "f=456.789\n",
    "s1='Hello,World'\n",
    "s2='Hello,\\'adam\\''\n",
    "s3=r'hello,\"bart\"'\n",
    "s4=r'''hello,\n",
    "Bob'''\n",
    "\n",
    "print(n,f,s1,s2,s3)\n",
    "print(s4)"
   ]
  },
  {
   "cell_type": "markdown",
   "metadata": {},
   "source": [
    "# 字符与字符串\n",
    "字符串是以单引号'或双引号\"括起来的任意文本，比如'abc'，\"xyz\"等等。请注意，''或\"\"本身只是一种表示方式，不是字符串的一部分，因此，字符串'abc'只有a，b，c这3个字符。如果'本身也是一个字符，那就可以用\"\"括起来，比如\"I'm OK\"包含的字符是I，'，m，空格，O，K这6个字符。\n",
    "\n",
    "如果字符串内部既包含'又包含\"怎么办？可以用转义字符\\来标识，比如：\n",
    "```python\n",
    "print('I\\'m \\\"OK\\\"')\n",
    "```\n",
    "\n",
    "转义字符\\可以转义很多字符，比如\\n表示换行，\\t表示制表符，字符\\本身也要转义，所以\\\\表示的字符就是\\\n",
    "\n",
    "如果字符串里面有很多字符都需要转义，就需要加很多\\，为了简化，Python还允许用r''表示''内部的字符串默认不转义，\n",
    "\n",
    "如果字符串内部有很多换行，用\\n写在一行里不好阅读，为了简化，Python允许用'''...'''的格式表示多行内容\n",
    "\n",
    "\n",
    "```python\n",
    "print(r'\\\\\\\\r\\\\\\\\')\n",
    "\n",
    "print('''line1\n",
    "line2\n",
    "line3''')\n",
    "```\n",
    "\n",
    "布尔值：\n",
    "\n",
    "True    False\n",
    "\n",
    "布尔值可以用and、or和not运算。\n",
    "```python\n",
    "print(not True)\n",
    "\n",
    "print(not False)\n",
    "\n",
    "print(True or True)\n",
    "\n",
    "print(True or False)\n",
    "\n",
    "print(True and True)\n",
    "\n",
    "print(True and False)\n",
    "\n",
    "age=19\n",
    "if age<=18:\n",
    "    print('你是青少年')\n",
    "else:\n",
    "    print('你是成年人')\n",
    "```\n",
    "\n",
    "\n",
    "空值\n",
    "\n",
    "空值是Python里一个特殊的值，用None表示。None不能理解为0，因为0是有意义的，而None是一个特殊的空值。\n",
    "\n",
    "\n",
    "\n",
    "变量在程序中就是用一个变量名表示了，变量名必须是大小写英文、数字和_的组合，且不能用数字开头\n",
    "\n",
    "\n",
    "在Python中，有两种除法，一种除法是/\n",
    "\n",
    "/除法计算结果是浮点数，即使是两个整数恰好整除，结果也是浮点数\n",
    "\n",
    "还有一种除法是//，称为地板除，两个整数的除法仍然是整数\n",
    "\n",
    "因为//除法只取结果的整数部分，所以Python还提供一个余数运算，可以得到两个整数相除的余数\n",
    "\n",
    "小结：\n",
    "\n",
    "Python支持多种数据类型，在计算机内部，可以把任何数据都看成一个“对象”，而变量就是在程序中用来指向这些数据对象的，对变量赋值就是把数据和变量给关联起来。\n",
    "\n",
    "对变量赋值x = y是把变量x指向真正的对象，该对象是变量y所指向的。随后对变量y的赋值不影响变量x的指向。\n",
    "\n",
    "注意：Python的整数没有大小限制，而某些语言的整数根据其存储长度是有大小限制的，例如Java对32位整数的范围限制在-2147483648-2147483647。\n",
    "\n",
    "Python的浮点数也没有大小限制，但是超出一定范围就直接表示为inf（无限大）。\n",
    "\n",
    "对于单个字符的编码，Python提供了ord()函数获取字符的整数表示，chr()函数把编码转换为对应的字符：\n",
    "\n",
    "```python\n",
    "ord('a')\n",
    "ord('中')\n",
    "chr(98)\n",
    "chr(25991)\n",
    "```\n",
    "\n",
    "要计算str包含多少个字符，可以用len()函数：\n",
    "\n",
    "```python\n",
    "len('abc')\n",
    "len('中文')\n",
    "```\n",
    "\n",
    "len()函数计算的是str的字符数，如果换成bytes，len()函数就计算字节数"
   ]
  },
  {
   "cell_type": "code",
   "execution_count": 45,
   "metadata": {},
   "outputs": [
    {
     "name": "stdout",
     "output_type": "stream",
     "text": [
      "小明成绩提升了 18.1%\n"
     ]
    }
   ],
   "source": [
    "#练习3:小明的成绩从去年的72分提升到了今年的85分，请计算小明成绩提升的百分点，并用字符串格式化显示出'xx.x%'，只保留小数点后1位：\n",
    "s1=72\n",
    "s2=85\n",
    "r=(s2-s1)/s1\n",
    "\n",
    "print(f'小明成绩提升了 {r*100:.1f}%')"
   ]
  },
  {
   "cell_type": "markdown",
   "metadata": {},
   "source": [
    "# list与tuple\n",
    "Python内置的一种数据类型是列表：list。list是一种有序的集合，可以随时添加和删除其中的元素。\n",
    "\n",
    "```python\n",
    "num=[1,2,3]\n",
    "\n",
    "#追加元素到末尾\n",
    "num.append(4)\n",
    "print(num)\n",
    "\n",
    "#插入元素到指定位置\n",
    "num.insert(0,0)\n",
    "print(num)\n",
    "\n",
    "#删除末尾的元素\n",
    "num.pop()\n",
    "print(num)\n",
    "\n",
    "#删除指定位置的元素\n",
    "num.pop(0)\n",
    "print(num)\n",
    "\n",
    "#把某个元素替换成别的元素\n",
    "num[1]=4\n",
    "print(num)\n",
    "\n",
    "#list里面的元素的数据类型也可以不同\n",
    "L=['apple',1,True]\n",
    "print(L)\n",
    "\n",
    "#list元素也可以是另一个list\n",
    "```\n",
    "\n",
    "元组：tuple\n",
    "\n",
    "tuple和list非常类似，但是tuple一旦初始化就不能修改，比如同样是列出同学的名字：\n",
    "\n",
    "tuple的陷阱：当你定义一个tuple时，在定义的时候，tuple的元素就必须被确定下来\n",
    "\n",
    "所以，只有1个元素的tuple定义时必须加一个逗号,，来消除歧义\n",
    "\n",
    "表面上看，tuple的元素确实变了，但其实变的不是tuple的元素，而是list的元素。tuple一开始指向的list并没有改成别的list，所以，tuple所谓的“不变”是说，tuple的每个元素，指向永远不变。即指向'a'，就不能改成指向'b'，指向一个list，就不能改成指向其他对象，但指向的这个list本身是可变的！"
   ]
  },
  {
   "cell_type": "code",
   "execution_count": 46,
   "metadata": {},
   "outputs": [
    {
     "name": "stdout",
     "output_type": "stream",
     "text": [
      "Apple\n",
      "Python\n",
      "Bob\n"
     ]
    }
   ],
   "source": [
    "#请用索引取出下面list的指定元素：\n",
    "L = [\n",
    "    ['Apple', 'Google', 'Microsoft'],\n",
    "    ['Java', 'Python', 'Ruby', 'PHP'],\n",
    "    ['Adam', 'Bart', 'Bob']\n",
    "]\n",
    "\n",
    "# 打印Apple:\n",
    "print(L[0][0])\n",
    "# 打印Python:\n",
    "print(L[1][1])\n",
    "# 打印Bob:\n",
    "print(L[2][2])"
   ]
  },
  {
   "cell_type": "markdown",
   "metadata": {},
   "source": [
    "# 条件判断\n",
    "注意不要少写了冒号:\n",
    "```python\n",
    "age = 20\n",
    "if age >= 18:\n",
    "    print('your age is', age)\n",
    "    print('adult')\n",
    "\n",
    "age=3\n",
    "if age >= 18:\n",
    "    print('adult')\n",
    "elif age >= 6:\n",
    "    print('teenager')\n",
    "else: print('kid')\n",
    "``` \n",
    "input()返回的数据类型是str，str不能直接和整数比较，必须先把str转换成整数。Python提供了int()函数来完成这件事情：\n",
    "```python\n",
    "s=input(\"birth:\")\n",
    "birth=int(s)\n",
    "if birth >=2000：\n",
    "    print('00后')\n",
    "else:\n",
    "    print(\"00前\")\n",
    "\n",
    "```\n",
    "\n",
    "```python\n",
    "age = 20\n",
    "if age >= 18:\n",
    "    print('your age is', age)\n",
    "    print('adult')\n",
    "\n",
    "age=3\n",
    "if age >= 18:\n",
    "    print('adult')\n",
    "elif age >= 6:\n",
    "    print('teenager')\n",
    "else: print('kid')\n",
    "\n",
    "s=input(\"birth:\")\n",
    "birth=int(s)\n",
    "if birth >=2000:\n",
    "    print('00后')\n",
    "else:\n",
    "    print(\"00前\")\n",
    "```\n"
   ]
  },
  {
   "cell_type": "code",
   "execution_count": 49,
   "metadata": {},
   "outputs": [
    {
     "name": "stdout",
     "output_type": "stream",
     "text": [
      "你的bmi是26.3\n",
      "过重\n"
     ]
    }
   ],
   "source": [
    "#小明身高1.75，体重80.5kg。请根据BMI公式（体重除以身高的平方）帮小明计算他的BMI指数，并根据BMI指数：用if-elif判断并打印结果：\n",
    "height = 1.75\n",
    "weight = 80.5\n",
    "\n",
    "bmi=weight/height/height\n",
    "\n",
    "print(f'你的bmi是{bmi:.1f}')\n",
    "if bmi >=32:\n",
    "    print('严重肥胖')\n",
    "elif bmi >=28:\n",
    "    print('肥胖')\n",
    "elif bmi >=25:\n",
    "    print('过重')\n",
    "elif bmi >=18.5:\n",
    "    print('正常')\n",
    "else:\n",
    "    print('过轻')"
   ]
  }
 ],
 "metadata": {
  "kernelspec": {
   "display_name": "Python 3",
   "language": "python",
   "name": "python3"
  },
  "language_info": {
   "codemirror_mode": {
    "name": "ipython",
    "version": 3
   },
   "file_extension": ".py",
   "mimetype": "text/x-python",
   "name": "python",
   "nbconvert_exporter": "python",
   "pygments_lexer": "ipython3",
   "version": "3.12.4"
  }
 },
 "nbformat": 4,
 "nbformat_minor": 2
}
